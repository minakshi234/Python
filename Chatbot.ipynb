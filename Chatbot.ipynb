{
 "cells": [
  {
   "cell_type": "code",
   "execution_count": null,
   "id": "1fd6185f-83af-4d08-96d7-eef3c54f815e",
   "metadata": {},
   "outputs": [
    {
     "name": "stdout",
     "output_type": "stream",
     "text": [
      "Chatbot:Hello!, I'm your simple chatbot.  Type 'bye' to exit.\n"
     ]
    },
    {
     "name": "stdin",
     "output_type": "stream",
     "text": [
      "You: hii\n",
      "You: hello\n"
     ]
    },
    {
     "name": "stdout",
     "output_type": "stream",
     "text": [
      "Chatbot:Hii!\n"
     ]
    },
    {
     "name": "stdin",
     "output_type": "stream",
     "text": [
      "You: who are you\n",
      "You: how are you\n"
     ]
    },
    {
     "name": "stdout",
     "output_type": "stream",
     "text": [
      "Chatbot:I'm fine,thanks!\n"
     ]
    }
   ],
   "source": [
    "def chatbot():\n",
    "    print(\"Chatbot:Hello!, I'm your simple chatbot.  Type 'bye' to exit.\")\n",
    "\n",
    "    while True:\n",
    "        user_input=input(\"You:\").lower()\n",
    "\n",
    "        if user_input==\"hello\":\n",
    "            print(\"Chatbot:Hii!\")\n",
    "\n",
    "        elif user_input==\"how are you\":\n",
    "            print(\"Chatbot:I'm fine,thanks!\")\n",
    "\n",
    "        elif user_input==\"thanks\":\n",
    "            print(\"Chatbot:You're Welcome!\")\n",
    "\n",
    "        elif user_input==\"bye\":\n",
    "            print(\"Chatbot:Goodbye! Have a nice day!\")\n",
    "            break\n",
    "    else:\n",
    "        print(\"Chatbot:Sorry,I don't understand that.\")\n",
    "\n",
    "chatbot()\n",
    "\n",
    "    "
   ]
  },
  {
   "cell_type": "code",
   "execution_count": null,
   "id": "8bbb6f8b-d2a5-4d5a-9354-ecb387e5722a",
   "metadata": {},
   "outputs": [],
   "source": []
  }
 ],
 "metadata": {
  "kernelspec": {
   "display_name": "Python [conda env:base] *",
   "language": "python",
   "name": "conda-base-py"
  },
  "language_info": {
   "codemirror_mode": {
    "name": "ipython",
    "version": 3
   },
   "file_extension": ".py",
   "mimetype": "text/x-python",
   "name": "python",
   "nbconvert_exporter": "python",
   "pygments_lexer": "ipython3",
   "version": "3.13.5"
  }
 },
 "nbformat": 4,
 "nbformat_minor": 5
}
