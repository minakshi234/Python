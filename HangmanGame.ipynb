{
 "cells": [
  {
   "cell_type": "code",
   "execution_count": null,
   "id": "9a049cf8-d736-4af1-84c5-9eabd178843e",
   "metadata": {},
   "outputs": [
    {
     "name": "stdout",
     "output_type": "stream",
     "text": [
      "Welcome to Hangman Game!\n",
      "You have 6 chances to guess the word\n",
      "_ _ _ _ _ _\n"
     ]
    },
    {
     "name": "stdin",
     "output_type": "stream",
     "text": [
      "\n",
      "Enter a letter : m\n"
     ]
    },
    {
     "name": "stdout",
     "output_type": "stream",
     "text": [
      "wrong guess! Tries left:5\n",
      "Word: _ _ _ _ _ _\n"
     ]
    },
    {
     "name": "stdin",
     "output_type": "stream",
     "text": [
      "\n",
      "Enter a letter : a\n"
     ]
    },
    {
     "name": "stdout",
     "output_type": "stream",
     "text": [
      "wrong guess! Tries left:4\n",
      "Word: _ _ _ _ _ _\n"
     ]
    },
    {
     "name": "stdin",
     "output_type": "stream",
     "text": [
      "\n",
      "Enter a letter : g\n"
     ]
    },
    {
     "name": "stdout",
     "output_type": "stream",
     "text": [
      "wrong guess! Tries left:3\n",
      "Word: _ _ _ _ _ _\n"
     ]
    },
    {
     "name": "stdin",
     "output_type": "stream",
     "text": [
      "\n",
      "Enter a letter : o\n"
     ]
    },
    {
     "name": "stdout",
     "output_type": "stream",
     "text": [
      "wrong guess! Tries left:2\n",
      "Word: _ _ _ _ _ _\n"
     ]
    },
    {
     "name": "stdin",
     "output_type": "stream",
     "text": [
      "\n",
      "Enter a letter : r\n"
     ]
    },
    {
     "name": "stdout",
     "output_type": "stream",
     "text": [
      "Good guess\n",
      "Word: _ _ _ r r _\n"
     ]
    },
    {
     "name": "stdin",
     "output_type": "stream",
     "text": [
      "\n",
      "Enter a letter : c\n"
     ]
    },
    {
     "name": "stdout",
     "output_type": "stream",
     "text": [
      "wrong guess! Tries left:1\n",
      "Word: _ _ _ r r _\n"
     ]
    },
    {
     "name": "stdin",
     "output_type": "stream",
     "text": [
      "\n",
      "Enter a letter : C\n"
     ]
    },
    {
     "name": "stdout",
     "output_type": "stream",
     "text": [
      "You already guessed that letter.\n"
     ]
    },
    {
     "name": "stdin",
     "output_type": "stream",
     "text": [
      "\n",
      "Enter a letter : y\n"
     ]
    },
    {
     "name": "stdout",
     "output_type": "stream",
     "text": [
      "Good guess\n",
      "Word: _ _ _ r r y\n"
     ]
    },
    {
     "name": "stdin",
     "output_type": "stream",
     "text": [
      "\n",
      "Enter a letter : e\n"
     ]
    },
    {
     "name": "stdout",
     "output_type": "stream",
     "text": [
      "Good guess\n",
      "Word: _ _ e r r y\n"
     ]
    },
    {
     "name": "stdin",
     "output_type": "stream",
     "text": [
      "\n",
      "Enter a letter : c\n"
     ]
    },
    {
     "name": "stdout",
     "output_type": "stream",
     "text": [
      "You already guessed that letter.\n"
     ]
    },
    {
     "name": "stdin",
     "output_type": "stream",
     "text": [
      "\n",
      "Enter a letter : h\n"
     ]
    },
    {
     "name": "stdout",
     "output_type": "stream",
     "text": [
      "Good guess\n",
      "Word: _ h e r r y\n"
     ]
    }
   ],
   "source": [
    "import random\n",
    "\n",
    "words=[\"apple\",\"banana\",\"orange\",\"cherry\",\"grapes\"]\n",
    "\n",
    "word=random.choice(words)\n",
    "word_letters=list(word)\n",
    "guessed=[\"_\"]*len(word)\n",
    "wrong_guesses=0\n",
    "max_guesses=6\n",
    "guessed_letters=[]\n",
    "\n",
    "print(\"Welcome to Hangman Game!\")\n",
    "print(\"You have 6 chances to guess the word\")\n",
    "print(\" \".join(guessed))\n",
    "\n",
    "while wrong_guesses < max_guesses and\"_\"in guessed:\n",
    "    guess=input(\"\\nEnter a letter :\").lower()\n",
    "\n",
    "    if len(guess)!=1 or not guess.isalpha():\n",
    "        print(\"Please enter a single letter.\")\n",
    "        continue\n",
    "\n",
    "    if guess in guessed_letters:\n",
    "        print(\"You already guessed that letter.\")\n",
    "        continue\n",
    "     \n",
    "    guessed_letters.append(guess)\n",
    "\n",
    "    if guess in word_letters:\n",
    "        print(\"Good guess\")\n",
    "        for i in range(len(word_letters)):\n",
    "            if word_letters[i]==guess:\n",
    "                guessed[i]=guess\n",
    "    else:\n",
    "        wrong_guesses += 1\n",
    "        print(f\"wrong guess! Tries left:{max_guesses - wrong_guesses}\")\n",
    "\n",
    "    print(\"Word:\",\" \".join(guessed))\n",
    "\n",
    "if\"_\"not in guessed:\n",
    "    print(\"\\n Congratulations! You guessed the word:\",word)\n",
    "else:\n",
    "    print(\"\\nGame Over! The word was:\",word)\n"
   ]
  },
  {
   "cell_type": "code",
   "execution_count": null,
   "id": "236558f6-f7db-4f4f-9e9e-84490321007d",
   "metadata": {},
   "outputs": [],
   "source": []
  }
 ],
 "metadata": {
  "kernelspec": {
   "display_name": "Python [conda env:base] *",
   "language": "python",
   "name": "conda-base-py"
  },
  "language_info": {
   "codemirror_mode": {
    "name": "ipython",
    "version": 3
   },
   "file_extension": ".py",
   "mimetype": "text/x-python",
   "name": "python",
   "nbconvert_exporter": "python",
   "pygments_lexer": "ipython3",
   "version": "3.13.5"
  }
 },
 "nbformat": 4,
 "nbformat_minor": 5
}
